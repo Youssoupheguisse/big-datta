{
 "cells": [
  {
   "cell_type": "code",
   "execution_count": 8,
   "id": "9d2df22b",
   "metadata": {},
   "outputs": [
    {
     "name": "stdout",
     "output_type": "stream",
     "text": [
      "Requirement already satisfied: kafka-python in c:\\programdata\\anaconda3\\lib\\site-packages (2.0.2)Note: you may need to restart the kernel to use updated packages.\n",
      "\n"
     ]
    }
   ],
   "source": [
    "pip install kafka-python"
   ]
  },
  {
   "cell_type": "code",
   "execution_count": 9,
   "id": "02d7a5a0",
   "metadata": {},
   "outputs": [],
   "source": [
    "from kafka import KafkaProducer\n",
    "producer = KafkaProducer(bootstrap_servers='217.182.68.36:9092')\n",
    "producer.send('youssouphe', b'{\"Year\": 2012, \"Month\": 8, \"DayofMonth\": 45, \"DayOfWeek\": 3, \"DepTime\": \"612\", \"CRSDepTime\": 620, \"ArrTime\": \"818\", \"CRSArrTime\": 829, \"UniqueCarrier\": \"DL\", \"FlightNum\": 1334566, \"TailNum\": \"N3733Z\", \"ActualElapsedTime\": \"126\", \"CRSElapsedTime\": \"129\", \"AirTime\": \"100\", \"ArrDelay\": \"-11\", \"DepDelay\": \"-8\", \"Origin\": \"LGA\", \"Dest\": \"CVG\", \"Distance\": 585, \"TaxiIn\": 4, \"TaxiOut\": 22, \"Cancelled\": 1, \"Diverted\": 0, \"CarrierDelay\": 0, \"WeatherDelay\": 0, \"NASDelay\": 0, \"SecurityDelay\": 0, \"LateAircraftDelay\": 0, \"iata\": \"LGA\", \"airport\": \"LaGuardia\", \"city\": \"New York\", \"state\": \"NY\", \"country\": \"USA\", \"lat\": 40.77724306, \"long\": -73.87260917, \"Code\": \"DL\", \"Description\": \"Delta Air Lines Inc.\", \"location\": \"40.77724306,-73.87260917\"}')\n",
    "producer.flush()"
   ]
  },
  {
   "cell_type": "code",
   "execution_count": 7,
   "id": "3ce22751",
   "metadata": {},
   "outputs": [],
   "source": [
    "from kafka import KafkaConsumer\n",
    "my_topic_name = 'youssouphe'\n",
    "my_consumer_group= 'test_id'\n",
    "kafka_servers = (\"217.182.68.36:9092\")\n",
    "consumer = KafkaConsumer(my_topic_name ,group_id=my_consumer_group, bootstrap_servers=kafka_servers)"
   ]
  },
  {
   "cell_type": "code",
   "execution_count": null,
   "id": "95152080",
   "metadata": {},
   "outputs": [],
   "source": []
  },
  {
   "cell_type": "code",
   "execution_count": null,
   "id": "b727321e",
   "metadata": {},
   "outputs": [],
   "source": []
  },
  {
   "cell_type": "code",
   "execution_count": null,
   "id": "9b4d04f8",
   "metadata": {},
   "outputs": [],
   "source": []
  },
  {
   "cell_type": "code",
   "execution_count": null,
   "id": "ddd83e76",
   "metadata": {},
   "outputs": [],
   "source": []
  }
 ],
 "metadata": {
  "kernelspec": {
   "display_name": "Python 3",
   "language": "python",
   "name": "python3"
  },
  "language_info": {
   "codemirror_mode": {
    "name": "ipython",
    "version": 3
   },
   "file_extension": ".py",
   "mimetype": "text/x-python",
   "name": "python",
   "nbconvert_exporter": "python",
   "pygments_lexer": "ipython3",
   "version": "3.8.8"
  }
 },
 "nbformat": 4,
 "nbformat_minor": 5
}
